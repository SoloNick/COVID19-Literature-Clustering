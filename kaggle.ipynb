{
 "cells": [
  {
   "cell_type": "markdown",
   "metadata": {},
   "source": [
    "# COVID-19 Literature Clustering"
   ]
  },
  {
   "cell_type": "code",
   "execution_count": 1,
   "metadata": {},
   "outputs": [],
   "source": [
    "from IPython.display import Image\n",
    "#Image(filename='/kaggle/input/screen-shot/screen_shot.png', width=800) "
   ]
  },
  {
   "cell_type": "markdown",
   "metadata": {},
   "source": [
    "##### You can find the full version of the interactive plot here on GitHub: \n",
    "https://maksimekin.github.io/COVID19-Literature-Clustering/plots/t-sne_covid-19_interactive.html <br>\n",
    "Because of its size, I can only put the smaller version on this Notebook."
   ]
  },
  {
   "cell_type": "markdown",
   "metadata": {},
   "source": [
    "### Goal\n",
    "Given the large number of literature and the rapid spread of COVID-19, it is difficult for health professionals to keep up with new information on the virus. Can we cluster similar research articles together to find related information? Clustering can be used to create a tool to identify similar articles, given a target article. It can also reduce the number of articles one has to go through as one can focus on a cluster of articles rather than all. In this notebook, we will to attempt narrow down the stream of information coming out about COVID-19."
   ]
  },
  {
   "cell_type": "markdown",
   "metadata": {},
   "source": [
    "### Table of Contents\n",
    "1. Loading the data\n",
    "2. Pre-processing\n",
    "3. "
   ]
  },
  {
   "cell_type": "markdown",
   "metadata": {},
   "source": [
    "# Loading the Data\n",
    "Load the data following the notebook by Ivan Ega Pratama, from Kaggle.\n",
    "#### Cite: [Dataset Parsing Code | Kaggle, COVID EDA: Initial Exploration Tool](https://www.kaggle.com/ivanegapratama/covid-eda-initial-exploration-tool)"
   ]
  },
  {
   "cell_type": "markdown",
   "metadata": {},
   "source": [
    "### Loading Metadata"
   ]
  },
  {
   "cell_type": "code",
   "execution_count": 2,
   "metadata": {},
   "outputs": [],
   "source": [
    "import numpy as np # linear algebra\n",
    "import pandas as pd # data processing, CSV file I/O (e.g. pd.read_csv)\n",
    "import glob\n",
    "import json\n",
    "\n",
    "import matplotlib.pyplot as plt\n",
    "plt.style.use('ggplot')"
   ]
  },
  {
   "cell_type": "markdown",
   "metadata": {},
   "source": [
    "Let's load the metadata of the dateset. 'title' and 'journal' attributes may be useful later when we cluster the articles to see what kinds of articles cluster together."
   ]
  },
  {
   "cell_type": "code",
   "execution_count": 3,
   "metadata": {},
   "outputs": [
    {
     "data": {
      "text/html": [
       "<div>\n",
       "<style scoped>\n",
       "    .dataframe tbody tr th:only-of-type {\n",
       "        vertical-align: middle;\n",
       "    }\n",
       "\n",
       "    .dataframe tbody tr th {\n",
       "        vertical-align: top;\n",
       "    }\n",
       "\n",
       "    .dataframe thead th {\n",
       "        text-align: right;\n",
       "    }\n",
       "</style>\n",
       "<table border=\"1\" class=\"dataframe\">\n",
       "  <thead>\n",
       "    <tr style=\"text-align: right;\">\n",
       "      <th></th>\n",
       "      <th>sha</th>\n",
       "      <th>source_x</th>\n",
       "      <th>title</th>\n",
       "      <th>doi</th>\n",
       "      <th>pmcid</th>\n",
       "      <th>pubmed_id</th>\n",
       "      <th>license</th>\n",
       "      <th>abstract</th>\n",
       "      <th>publish_time</th>\n",
       "      <th>authors</th>\n",
       "      <th>journal</th>\n",
       "      <th>Microsoft Academic Paper ID</th>\n",
       "      <th>WHO #Covidence</th>\n",
       "      <th>has_full_text</th>\n",
       "      <th>full_text_file</th>\n",
       "    </tr>\n",
       "  </thead>\n",
       "  <tbody>\n",
       "    <tr>\n",
       "      <td>0</td>\n",
       "      <td>NaN</td>\n",
       "      <td>Elsevier</td>\n",
       "      <td>Intrauterine virus infections and congenital h...</td>\n",
       "      <td>10.1016/0002-8703(72)90077-4</td>\n",
       "      <td>NaN</td>\n",
       "      <td>4361535</td>\n",
       "      <td>els-covid</td>\n",
       "      <td>Abstract The etiologic basis for the vast majo...</td>\n",
       "      <td>1972-12-31</td>\n",
       "      <td>Overall, James C.</td>\n",
       "      <td>American Heart Journal</td>\n",
       "      <td>NaN</td>\n",
       "      <td>NaN</td>\n",
       "      <td>False</td>\n",
       "      <td>custom_license</td>\n",
       "    </tr>\n",
       "    <tr>\n",
       "      <td>1</td>\n",
       "      <td>NaN</td>\n",
       "      <td>Elsevier</td>\n",
       "      <td>Coronaviruses in Balkan nephritis</td>\n",
       "      <td>10.1016/0002-8703(80)90355-5</td>\n",
       "      <td>NaN</td>\n",
       "      <td>6243850</td>\n",
       "      <td>els-covid</td>\n",
       "      <td>NaN</td>\n",
       "      <td>1980-03-31</td>\n",
       "      <td>Georgescu, Leonida; Diosi, Peter; Buţiu, Ioan;...</td>\n",
       "      <td>American Heart Journal</td>\n",
       "      <td>NaN</td>\n",
       "      <td>NaN</td>\n",
       "      <td>False</td>\n",
       "      <td>custom_license</td>\n",
       "    </tr>\n",
       "    <tr>\n",
       "      <td>2</td>\n",
       "      <td>NaN</td>\n",
       "      <td>Elsevier</td>\n",
       "      <td>Cigarette smoking and coronary heart disease: ...</td>\n",
       "      <td>10.1016/0002-8703(80)90356-7</td>\n",
       "      <td>NaN</td>\n",
       "      <td>7355701</td>\n",
       "      <td>els-covid</td>\n",
       "      <td>NaN</td>\n",
       "      <td>1980-03-31</td>\n",
       "      <td>Friedman, Gary D</td>\n",
       "      <td>American Heart Journal</td>\n",
       "      <td>NaN</td>\n",
       "      <td>NaN</td>\n",
       "      <td>False</td>\n",
       "      <td>custom_license</td>\n",
       "    </tr>\n",
       "    <tr>\n",
       "      <td>3</td>\n",
       "      <td>aecbc613ebdab36753235197ffb4f35734b5ca63</td>\n",
       "      <td>Elsevier</td>\n",
       "      <td>Clinical and immunologic studies in identical ...</td>\n",
       "      <td>10.1016/0002-9343(73)90176-9</td>\n",
       "      <td>NaN</td>\n",
       "      <td>4579077</td>\n",
       "      <td>els-covid</td>\n",
       "      <td>Abstract Middle-aged female identical twins, o...</td>\n",
       "      <td>1973-08-31</td>\n",
       "      <td>Brunner, Carolyn M.; Horwitz, David A.; Shann,...</td>\n",
       "      <td>The American Journal of Medicine</td>\n",
       "      <td>NaN</td>\n",
       "      <td>NaN</td>\n",
       "      <td>True</td>\n",
       "      <td>custom_license</td>\n",
       "    </tr>\n",
       "    <tr>\n",
       "      <td>4</td>\n",
       "      <td>NaN</td>\n",
       "      <td>Elsevier</td>\n",
       "      <td>Epidemiology of community-acquired respiratory...</td>\n",
       "      <td>10.1016/0002-9343(85)90361-4</td>\n",
       "      <td>NaN</td>\n",
       "      <td>4014285</td>\n",
       "      <td>els-covid</td>\n",
       "      <td>Abstract Upper respiratory tract infections ar...</td>\n",
       "      <td>1985-06-28</td>\n",
       "      <td>Garibaldi, Richard A.</td>\n",
       "      <td>The American Journal of Medicine</td>\n",
       "      <td>NaN</td>\n",
       "      <td>NaN</td>\n",
       "      <td>False</td>\n",
       "      <td>custom_license</td>\n",
       "    </tr>\n",
       "  </tbody>\n",
       "</table>\n",
       "</div>"
      ],
      "text/plain": [
       "                                        sha  source_x  \\\n",
       "0                                       NaN  Elsevier   \n",
       "1                                       NaN  Elsevier   \n",
       "2                                       NaN  Elsevier   \n",
       "3  aecbc613ebdab36753235197ffb4f35734b5ca63  Elsevier   \n",
       "4                                       NaN  Elsevier   \n",
       "\n",
       "                                               title  \\\n",
       "0  Intrauterine virus infections and congenital h...   \n",
       "1                  Coronaviruses in Balkan nephritis   \n",
       "2  Cigarette smoking and coronary heart disease: ...   \n",
       "3  Clinical and immunologic studies in identical ...   \n",
       "4  Epidemiology of community-acquired respiratory...   \n",
       "\n",
       "                            doi pmcid pubmed_id    license  \\\n",
       "0  10.1016/0002-8703(72)90077-4   NaN   4361535  els-covid   \n",
       "1  10.1016/0002-8703(80)90355-5   NaN   6243850  els-covid   \n",
       "2  10.1016/0002-8703(80)90356-7   NaN   7355701  els-covid   \n",
       "3  10.1016/0002-9343(73)90176-9   NaN   4579077  els-covid   \n",
       "4  10.1016/0002-9343(85)90361-4   NaN   4014285  els-covid   \n",
       "\n",
       "                                            abstract publish_time  \\\n",
       "0  Abstract The etiologic basis for the vast majo...   1972-12-31   \n",
       "1                                                NaN   1980-03-31   \n",
       "2                                                NaN   1980-03-31   \n",
       "3  Abstract Middle-aged female identical twins, o...   1973-08-31   \n",
       "4  Abstract Upper respiratory tract infections ar...   1985-06-28   \n",
       "\n",
       "                                             authors  \\\n",
       "0                                  Overall, James C.   \n",
       "1  Georgescu, Leonida; Diosi, Peter; Buţiu, Ioan;...   \n",
       "2                                   Friedman, Gary D   \n",
       "3  Brunner, Carolyn M.; Horwitz, David A.; Shann,...   \n",
       "4                              Garibaldi, Richard A.   \n",
       "\n",
       "                            journal Microsoft Academic Paper ID  \\\n",
       "0            American Heart Journal                         NaN   \n",
       "1            American Heart Journal                         NaN   \n",
       "2            American Heart Journal                         NaN   \n",
       "3  The American Journal of Medicine                         NaN   \n",
       "4  The American Journal of Medicine                         NaN   \n",
       "\n",
       "  WHO #Covidence  has_full_text  full_text_file  \n",
       "0            NaN          False  custom_license  \n",
       "1            NaN          False  custom_license  \n",
       "2            NaN          False  custom_license  \n",
       "3            NaN           True  custom_license  \n",
       "4            NaN          False  custom_license  "
      ]
     },
     "execution_count": 3,
     "metadata": {},
     "output_type": "execute_result"
    }
   ],
   "source": [
    "root_path = 'data/CORD-19-research-challenge/'\n",
    "metadata_path = f'{root_path}/metadata.csv'\n",
    "meta_df = pd.read_csv(metadata_path, dtype={\n",
    "    'pubmed_id': str,\n",
    "    'Microsoft Academic Paper ID': str, \n",
    "    'doi': str\n",
    "})\n",
    "meta_df.head()"
   ]
  },
  {
   "cell_type": "code",
   "execution_count": 4,
   "metadata": {},
   "outputs": [
    {
     "name": "stdout",
     "output_type": "stream",
     "text": [
      "<class 'pandas.core.frame.DataFrame'>\n",
      "RangeIndex: 44220 entries, 0 to 44219\n",
      "Data columns (total 15 columns):\n",
      "sha                            28462 non-null object\n",
      "source_x                       44220 non-null object\n",
      "title                          43996 non-null object\n",
      "doi                            40750 non-null object\n",
      "pmcid                          23319 non-null object\n",
      "pubmed_id                      22943 non-null object\n",
      "license                        44220 non-null object\n",
      "abstract                       35806 non-null object\n",
      "publish_time                   34197 non-null object\n",
      "authors                        41074 non-null object\n",
      "journal                        33173 non-null object\n",
      "Microsoft Academic Paper ID    964 non-null object\n",
      "WHO #Covidence                 1767 non-null object\n",
      "has_full_text                  44220 non-null bool\n",
      "full_text_file                 32829 non-null object\n",
      "dtypes: bool(1), object(14)\n",
      "memory usage: 4.8+ MB\n"
     ]
    }
   ],
   "source": [
    "meta_df.info()"
   ]
  },
  {
   "cell_type": "markdown",
   "metadata": {},
   "source": [
    "### Fetch All of JSON File Path"
   ]
  },
  {
   "cell_type": "markdown",
   "metadata": {},
   "source": [
    "Get path to all JSON files:"
   ]
  },
  {
   "cell_type": "code",
   "execution_count": 5,
   "metadata": {},
   "outputs": [
    {
     "data": {
      "text/plain": [
       "29315"
      ]
     },
     "execution_count": 5,
     "metadata": {},
     "output_type": "execute_result"
    }
   ],
   "source": [
    "all_json = glob.glob(f'{root_path}/**/*.json', recursive=True)\n",
    "len(all_json)"
   ]
  },
  {
   "cell_type": "markdown",
   "metadata": {},
   "source": [
    "### Helper Functions"
   ]
  },
  {
   "cell_type": "markdown",
   "metadata": {},
   "source": [
    " File Reader Class"
   ]
  },
  {
   "cell_type": "code",
   "execution_count": 6,
   "metadata": {},
   "outputs": [
    {
     "name": "stdout",
     "output_type": "stream",
     "text": [
      "0015023cc06b5362d332b3baf348d11567ca2fbb: word count: 194 22 Text word count: 5168 23 24 25 author/funder. All rights reserved. No reuse allowed without permission. Abstract 27 The positive stranded RNA genomes of picornaviruses comprise a si... VP3, and VP0 (which is further processed to VP2 and VP4 during virus assembly) (6). The P2 64 and P3 regions encode the non-structural proteins 2B and 2C and 3A, 3B (1-3) (VPg), 3C pro and 4 structura...\n"
     ]
    }
   ],
   "source": [
    "class FileReader:\n",
    "    def __init__(self, file_path):\n",
    "        with open(file_path) as file:\n",
    "            content = json.load(file)\n",
    "            self.paper_id = content['paper_id']\n",
    "            self.abstract = []\n",
    "            self.body_text = []\n",
    "            # Abstract\n",
    "            for entry in content['abstract']:\n",
    "                self.abstract.append(entry['text'])\n",
    "            # Body text\n",
    "            for entry in content['body_text']:\n",
    "                self.body_text.append(entry['text'])\n",
    "            self.abstract = '\\n'.join(self.abstract)\n",
    "            self.body_text = '\\n'.join(self.body_text)\n",
    "    def __repr__(self):\n",
    "        return f'{self.paper_id}: {self.abstract[:200]}... {self.body_text[:200]}...'\n",
    "first_row = FileReader(all_json[0])\n",
    "print(first_row)"
   ]
  },
  {
   "cell_type": "markdown",
   "metadata": {},
   "source": [
    "Helper function adds break after every words when character length reach to certain amount. This is for the interactive plot so that hover tool fits the screen."
   ]
  },
  {
   "cell_type": "code",
   "execution_count": 7,
   "metadata": {},
   "outputs": [],
   "source": [
    "def get_breaks(content, length):\n",
    "    data = \"\"\n",
    "    words = content.split(' ')\n",
    "    total_chars = 0\n",
    "\n",
    "    # add break every length characters\n",
    "    for i in range(len(words)):\n",
    "        total_chars += len(words[i])\n",
    "        if total_chars > length:\n",
    "            data = data + \"<br>\" + words[i]\n",
    "            total_chars = 0\n",
    "        else:\n",
    "            data = data + \" \" + words[i]\n",
    "    return data"
   ]
  },
  {
   "cell_type": "markdown",
   "metadata": {},
   "source": [
    "### Load the Data into DataFrame"
   ]
  },
  {
   "cell_type": "markdown",
   "metadata": {},
   "source": [
    "Using the helper functions, let's read in the articles into a DataFrame that can be used easily:"
   ]
  },
  {
   "cell_type": "code",
   "execution_count": 8,
   "metadata": {},
   "outputs": [
    {
     "name": "stdout",
     "output_type": "stream",
     "text": [
      "Processing index: 0 of 29315\n",
      "Processing index: 2931 of 29315\n",
      "Processing index: 5862 of 29315\n",
      "Processing index: 8793 of 29315\n",
      "Processing index: 11724 of 29315\n",
      "Processing index: 14655 of 29315\n",
      "Processing index: 17586 of 29315\n",
      "Processing index: 20517 of 29315\n",
      "Processing index: 23448 of 29315\n",
      "Processing index: 26379 of 29315\n",
      "Processing index: 29310 of 29315\n"
     ]
    },
    {
     "data": {
      "text/html": [
       "<div>\n",
       "<style scoped>\n",
       "    .dataframe tbody tr th:only-of-type {\n",
       "        vertical-align: middle;\n",
       "    }\n",
       "\n",
       "    .dataframe tbody tr th {\n",
       "        vertical-align: top;\n",
       "    }\n",
       "\n",
       "    .dataframe thead th {\n",
       "        text-align: right;\n",
       "    }\n",
       "</style>\n",
       "<table border=\"1\" class=\"dataframe\">\n",
       "  <thead>\n",
       "    <tr style=\"text-align: right;\">\n",
       "      <th></th>\n",
       "      <th>paper_id</th>\n",
       "      <th>abstract</th>\n",
       "      <th>body_text</th>\n",
       "      <th>authors</th>\n",
       "      <th>title</th>\n",
       "      <th>journal</th>\n",
       "      <th>abstract_summary</th>\n",
       "    </tr>\n",
       "  </thead>\n",
       "  <tbody>\n",
       "    <tr>\n",
       "      <td>0</td>\n",
       "      <td>0015023cc06b5362d332b3baf348d11567ca2fbb</td>\n",
       "      <td>word count: 194 22 Text word count: 5168 23 24...</td>\n",
       "      <td>VP3, and VP0 (which is further processed to VP...</td>\n",
       "      <td>Ward, J. C. J..  Lasecka-Dykes, L....</td>\n",
       "      <td>The RNA pseudoknots in foot-and-mouth disease...</td>\n",
       "      <td>NaN</td>\n",
       "      <td>word count: 194 22 Text word count: 5168 23 2...</td>\n",
       "    </tr>\n",
       "    <tr>\n",
       "      <td>1</td>\n",
       "      <td>004f0f8bb66cf446678dc13cf2701feec4f36d76</td>\n",
       "      <td></td>\n",
       "      <td>The 2019-nCoV epidemic has spread across China...</td>\n",
       "      <td>Hanchu Zhou.  Jianan Yang...</td>\n",
       "      <td>Healthcare-resource-adjusted&lt;br&gt;vulnerabiliti...</td>\n",
       "      <td>NaN</td>\n",
       "      <td>Not provided.</td>\n",
       "    </tr>\n",
       "    <tr>\n",
       "      <td>2</td>\n",
       "      <td>00d16927588fb04d4be0e6b269fc02f0d3c2aa7b</td>\n",
       "      <td>Infectious bronchitis (IB) causes significant ...</td>\n",
       "      <td>Infectious bronchitis (IB), which is caused by...</td>\n",
       "      <td>Butt, S. L..  Erwood, E. C....</td>\n",
       "      <td>Real-time, MinION-based, amplicon&lt;br&gt;sequenci...</td>\n",
       "      <td>NaN</td>\n",
       "      <td>Infectious bronchitis (IB) causes&lt;br&gt;signific...</td>\n",
       "    </tr>\n",
       "    <tr>\n",
       "      <td>3</td>\n",
       "      <td>0139ea4ca580af99b602c6435368e7fdbefacb03</td>\n",
       "      <td>Nipah Virus (NiV) came into limelight recently...</td>\n",
       "      <td>Nipah is an infectious negative-sense single-s...</td>\n",
       "      <td>Nishi Kumari.  Ayush Upadhyay...</td>\n",
       "      <td>A Combined Evidence Approach to Prioritize&lt;br...</td>\n",
       "      <td>NaN</td>\n",
       "      <td>Nipah Virus (NiV) came into limelight recentl...</td>\n",
       "    </tr>\n",
       "    <tr>\n",
       "      <td>4</td>\n",
       "      <td>013d9d1cba8a54d5d3718c229b812d7cf91b6c89</td>\n",
       "      <td>Background: A novel coronavirus (2019-nCoV) em...</td>\n",
       "      <td>In December 2019, a cluster of patients with p...</td>\n",
       "      <td>Shengjie Lai.  Isaac Bogoch...</td>\n",
       "      <td>Assessing spread risk of Wuhan novel&lt;br&gt;coron...</td>\n",
       "      <td>NaN</td>\n",
       "      <td>Background: A novel coronavirus (2019-nCoV)&lt;b...</td>\n",
       "    </tr>\n",
       "  </tbody>\n",
       "</table>\n",
       "</div>"
      ],
      "text/plain": [
       "                                   paper_id  \\\n",
       "0  0015023cc06b5362d332b3baf348d11567ca2fbb   \n",
       "1  004f0f8bb66cf446678dc13cf2701feec4f36d76   \n",
       "2  00d16927588fb04d4be0e6b269fc02f0d3c2aa7b   \n",
       "3  0139ea4ca580af99b602c6435368e7fdbefacb03   \n",
       "4  013d9d1cba8a54d5d3718c229b812d7cf91b6c89   \n",
       "\n",
       "                                            abstract  \\\n",
       "0  word count: 194 22 Text word count: 5168 23 24...   \n",
       "1                                                      \n",
       "2  Infectious bronchitis (IB) causes significant ...   \n",
       "3  Nipah Virus (NiV) came into limelight recently...   \n",
       "4  Background: A novel coronavirus (2019-nCoV) em...   \n",
       "\n",
       "                                           body_text  \\\n",
       "0  VP3, and VP0 (which is further processed to VP...   \n",
       "1  The 2019-nCoV epidemic has spread across China...   \n",
       "2  Infectious bronchitis (IB), which is caused by...   \n",
       "3  Nipah is an infectious negative-sense single-s...   \n",
       "4  In December 2019, a cluster of patients with p...   \n",
       "\n",
       "                                 authors  \\\n",
       "0  Ward, J. C. J..  Lasecka-Dykes, L....   \n",
       "1           Hanchu Zhou.  Jianan Yang...   \n",
       "2         Butt, S. L..  Erwood, E. C....   \n",
       "3       Nishi Kumari.  Ayush Upadhyay...   \n",
       "4         Shengjie Lai.  Isaac Bogoch...   \n",
       "\n",
       "                                               title journal  \\\n",
       "0   The RNA pseudoknots in foot-and-mouth disease...     NaN   \n",
       "1   Healthcare-resource-adjusted<br>vulnerabiliti...     NaN   \n",
       "2   Real-time, MinION-based, amplicon<br>sequenci...     NaN   \n",
       "3   A Combined Evidence Approach to Prioritize<br...     NaN   \n",
       "4   Assessing spread risk of Wuhan novel<br>coron...     NaN   \n",
       "\n",
       "                                    abstract_summary  \n",
       "0   word count: 194 22 Text word count: 5168 23 2...  \n",
       "1                                      Not provided.  \n",
       "2   Infectious bronchitis (IB) causes<br>signific...  \n",
       "3   Nipah Virus (NiV) came into limelight recentl...  \n",
       "4   Background: A novel coronavirus (2019-nCoV)<b...  "
      ]
     },
     "execution_count": 8,
     "metadata": {},
     "output_type": "execute_result"
    }
   ],
   "source": [
    "dict_ = {'paper_id': [], 'abstract': [], 'body_text': [], 'authors': [], 'title': [], 'journal': [], 'abstract_summary': []}\n",
    "for idx, entry in enumerate(all_json):\n",
    "    if idx % (len(all_json) // 10) == 0:\n",
    "        print(f'Processing index: {idx} of {len(all_json)}')\n",
    "    content = FileReader(entry)\n",
    "    \n",
    "    # get metadata information\n",
    "    meta_data = meta_df.loc[meta_df['sha'] == content.paper_id]\n",
    "    # no metadata, skip this paper\n",
    "    if len(meta_data) == 0:\n",
    "        continue\n",
    "    \n",
    "    dict_['paper_id'].append(content.paper_id)\n",
    "    dict_['abstract'].append(content.abstract)\n",
    "    dict_['body_text'].append(content.body_text)\n",
    "    \n",
    "    # also create a column for the summary of abstract to be used in a plot\n",
    "    if len(content.abstract) == 0: \n",
    "        # no abstract provided\n",
    "        dict_['abstract_summary'].append(\"Not provided.\")\n",
    "    elif len(content.abstract.split(' ')) > 100:\n",
    "        # abstract provided is too long for plot, take first 300 words append with ...\n",
    "        info = content.abstract.split(' ')[:100]\n",
    "        summary = get_breaks(' '.join(info), 40)\n",
    "        dict_['abstract_summary'].append(summary + \"...\")\n",
    "    else:\n",
    "        # abstract is short enough\n",
    "        summary = get_breaks(content.abstract, 40)\n",
    "        dict_['abstract_summary'].append(summary)\n",
    "        \n",
    "    # get metadata information\n",
    "    meta_data = meta_df.loc[meta_df['sha'] == content.paper_id]\n",
    "    \n",
    "    try:\n",
    "        # if more than one author\n",
    "        authors = meta_data['authors'].values[0].split(';')\n",
    "        if len(authors) > 2:\n",
    "            # more than 2 authors, may be problem when plotting, so take first 2 append with ...\n",
    "            dict_['authors'].append(\". \".join(authors[:2]) + \"...\")\n",
    "        else:\n",
    "            # authors will fit in plot\n",
    "            dict_['authors'].append(\". \".join(authors))\n",
    "    except Exception as e:\n",
    "        # if only one author - or Null valie\n",
    "        dict_['authors'].append(meta_data['authors'].values[0])\n",
    "    \n",
    "    # add the title information, add breaks when needed\n",
    "    try:\n",
    "        title = get_breaks(meta_data['title'].values[0], 40)\n",
    "        dict_['title'].append(title)\n",
    "    # if title was not provided\n",
    "    except Exception as e:\n",
    "        dict_['title'].append(meta_data['title'].values[0])\n",
    "    \n",
    "    # add the journal information\n",
    "    dict_['journal'].append(meta_data['journal'].values[0])\n",
    "    \n",
    "df_covid = pd.DataFrame(dict_, columns=['paper_id', 'abstract', 'body_text', 'authors', 'title', 'journal', 'abstract_summary'])\n",
    "df_covid.head()"
   ]
  },
  {
   "cell_type": "markdown",
   "metadata": {},
   "source": [
    "<br>\n",
    "\n",
    "## Some feature engineering"
   ]
  },
  {
   "cell_type": "markdown",
   "metadata": {},
   "source": [
    "Adding word count columns for both abstract and body_text can be useful parameters later:"
   ]
  },
  {
   "cell_type": "code",
   "execution_count": 9,
   "metadata": {},
   "outputs": [
    {
     "data": {
      "text/html": [
       "<div>\n",
       "<style scoped>\n",
       "    .dataframe tbody tr th:only-of-type {\n",
       "        vertical-align: middle;\n",
       "    }\n",
       "\n",
       "    .dataframe tbody tr th {\n",
       "        vertical-align: top;\n",
       "    }\n",
       "\n",
       "    .dataframe thead th {\n",
       "        text-align: right;\n",
       "    }\n",
       "</style>\n",
       "<table border=\"1\" class=\"dataframe\">\n",
       "  <thead>\n",
       "    <tr style=\"text-align: right;\">\n",
       "      <th></th>\n",
       "      <th>paper_id</th>\n",
       "      <th>abstract</th>\n",
       "      <th>body_text</th>\n",
       "      <th>authors</th>\n",
       "      <th>title</th>\n",
       "      <th>journal</th>\n",
       "      <th>abstract_summary</th>\n",
       "      <th>abstract_word_count</th>\n",
       "      <th>body_word_count</th>\n",
       "      <th>body_unique_words</th>\n",
       "      <th>num_char</th>\n",
       "    </tr>\n",
       "  </thead>\n",
       "  <tbody>\n",
       "    <tr>\n",
       "      <td>0</td>\n",
       "      <td>0015023cc06b5362d332b3baf348d11567ca2fbb</td>\n",
       "      <td>word count: 194 22 Text word count: 5168 23 24...</td>\n",
       "      <td>VP3, and VP0 (which is further processed to VP...</td>\n",
       "      <td>Ward, J. C. J..  Lasecka-Dykes, L....</td>\n",
       "      <td>The RNA pseudoknots in foot-and-mouth disease...</td>\n",
       "      <td>NaN</td>\n",
       "      <td>word count: 194 22 Text word count: 5168 23 2...</td>\n",
       "      <td>241</td>\n",
       "      <td>1728</td>\n",
       "      <td>705</td>\n",
       "      <td>11205</td>\n",
       "    </tr>\n",
       "    <tr>\n",
       "      <td>1</td>\n",
       "      <td>004f0f8bb66cf446678dc13cf2701feec4f36d76</td>\n",
       "      <td></td>\n",
       "      <td>The 2019-nCoV epidemic has spread across China...</td>\n",
       "      <td>Hanchu Zhou.  Jianan Yang...</td>\n",
       "      <td>Healthcare-resource-adjusted&lt;br&gt;vulnerabiliti...</td>\n",
       "      <td>NaN</td>\n",
       "      <td>Not provided.</td>\n",
       "      <td>0</td>\n",
       "      <td>755</td>\n",
       "      <td>377</td>\n",
       "      <td>4989</td>\n",
       "    </tr>\n",
       "    <tr>\n",
       "      <td>2</td>\n",
       "      <td>00d16927588fb04d4be0e6b269fc02f0d3c2aa7b</td>\n",
       "      <td>Infectious bronchitis (IB) causes significant ...</td>\n",
       "      <td>Infectious bronchitis (IB), which is caused by...</td>\n",
       "      <td>Butt, S. L..  Erwood, E. C....</td>\n",
       "      <td>Real-time, MinION-based, amplicon&lt;br&gt;sequenci...</td>\n",
       "      <td>NaN</td>\n",
       "      <td>Infectious bronchitis (IB) causes&lt;br&gt;signific...</td>\n",
       "      <td>1647</td>\n",
       "      <td>4003</td>\n",
       "      <td>1185</td>\n",
       "      <td>25935</td>\n",
       "    </tr>\n",
       "    <tr>\n",
       "      <td>3</td>\n",
       "      <td>0139ea4ca580af99b602c6435368e7fdbefacb03</td>\n",
       "      <td>Nipah Virus (NiV) came into limelight recently...</td>\n",
       "      <td>Nipah is an infectious negative-sense single-s...</td>\n",
       "      <td>Nishi Kumari.  Ayush Upadhyay...</td>\n",
       "      <td>A Combined Evidence Approach to Prioritize&lt;br...</td>\n",
       "      <td>NaN</td>\n",
       "      <td>Nipah Virus (NiV) came into limelight recentl...</td>\n",
       "      <td>326</td>\n",
       "      <td>2399</td>\n",
       "      <td>1026</td>\n",
       "      <td>15754</td>\n",
       "    </tr>\n",
       "    <tr>\n",
       "      <td>4</td>\n",
       "      <td>013d9d1cba8a54d5d3718c229b812d7cf91b6c89</td>\n",
       "      <td>Background: A novel coronavirus (2019-nCoV) em...</td>\n",
       "      <td>In December 2019, a cluster of patients with p...</td>\n",
       "      <td>Shengjie Lai.  Isaac Bogoch...</td>\n",
       "      <td>Assessing spread risk of Wuhan novel&lt;br&gt;coron...</td>\n",
       "      <td>NaN</td>\n",
       "      <td>Background: A novel coronavirus (2019-nCoV)&lt;b...</td>\n",
       "      <td>22</td>\n",
       "      <td>4642</td>\n",
       "      <td>1190</td>\n",
       "      <td>29825</td>\n",
       "    </tr>\n",
       "  </tbody>\n",
       "</table>\n",
       "</div>"
      ],
      "text/plain": [
       "                                   paper_id  \\\n",
       "0  0015023cc06b5362d332b3baf348d11567ca2fbb   \n",
       "1  004f0f8bb66cf446678dc13cf2701feec4f36d76   \n",
       "2  00d16927588fb04d4be0e6b269fc02f0d3c2aa7b   \n",
       "3  0139ea4ca580af99b602c6435368e7fdbefacb03   \n",
       "4  013d9d1cba8a54d5d3718c229b812d7cf91b6c89   \n",
       "\n",
       "                                            abstract  \\\n",
       "0  word count: 194 22 Text word count: 5168 23 24...   \n",
       "1                                                      \n",
       "2  Infectious bronchitis (IB) causes significant ...   \n",
       "3  Nipah Virus (NiV) came into limelight recently...   \n",
       "4  Background: A novel coronavirus (2019-nCoV) em...   \n",
       "\n",
       "                                           body_text  \\\n",
       "0  VP3, and VP0 (which is further processed to VP...   \n",
       "1  The 2019-nCoV epidemic has spread across China...   \n",
       "2  Infectious bronchitis (IB), which is caused by...   \n",
       "3  Nipah is an infectious negative-sense single-s...   \n",
       "4  In December 2019, a cluster of patients with p...   \n",
       "\n",
       "                                 authors  \\\n",
       "0  Ward, J. C. J..  Lasecka-Dykes, L....   \n",
       "1           Hanchu Zhou.  Jianan Yang...   \n",
       "2         Butt, S. L..  Erwood, E. C....   \n",
       "3       Nishi Kumari.  Ayush Upadhyay...   \n",
       "4         Shengjie Lai.  Isaac Bogoch...   \n",
       "\n",
       "                                               title journal  \\\n",
       "0   The RNA pseudoknots in foot-and-mouth disease...     NaN   \n",
       "1   Healthcare-resource-adjusted<br>vulnerabiliti...     NaN   \n",
       "2   Real-time, MinION-based, amplicon<br>sequenci...     NaN   \n",
       "3   A Combined Evidence Approach to Prioritize<br...     NaN   \n",
       "4   Assessing spread risk of Wuhan novel<br>coron...     NaN   \n",
       "\n",
       "                                    abstract_summary  abstract_word_count  \\\n",
       "0   word count: 194 22 Text word count: 5168 23 2...                  241   \n",
       "1                                      Not provided.                    0   \n",
       "2   Infectious bronchitis (IB) causes<br>signific...                 1647   \n",
       "3   Nipah Virus (NiV) came into limelight recentl...                  326   \n",
       "4   Background: A novel coronavirus (2019-nCoV)<b...                   22   \n",
       "\n",
       "   body_word_count  body_unique_words  num_char  \n",
       "0             1728                705     11205  \n",
       "1              755                377      4989  \n",
       "2             4003               1185     25935  \n",
       "3             2399               1026     15754  \n",
       "4             4642               1190     29825  "
      ]
     },
     "execution_count": 9,
     "metadata": {},
     "output_type": "execute_result"
    }
   ],
   "source": [
    "df_covid['abstract_word_count'] = df_covid['abstract'].apply(lambda x: len(x.strip().split()))  # word count in abstract\n",
    "df_covid['body_word_count'] = df_covid['body_text'].apply(lambda x: len(x.strip().split()))  # word count in body\n",
    "df_covid['body_unique_words']=df_covid['body_text'].apply(lambda x:len(set(str(x).split())))  # number of unique words in body\n",
    "df_covid['body_num_char']=df_covid['body_text'].apply(lambda x:len(str(x))) # character count in body\n",
    "df_covid.head()"
   ]
  },
  {
   "cell_type": "code",
   "execution_count": 10,
   "metadata": {},
   "outputs": [
    {
     "name": "stdout",
     "output_type": "stream",
     "text": [
      "<class 'pandas.core.frame.DataFrame'>\n",
      "RangeIndex: 27678 entries, 0 to 27677\n",
      "Data columns (total 11 columns):\n",
      "paper_id               27678 non-null object\n",
      "abstract               27678 non-null object\n",
      "body_text              27678 non-null object\n",
      "authors                26929 non-null object\n",
      "title                  27634 non-null object\n",
      "journal                26784 non-null object\n",
      "abstract_summary       27678 non-null object\n",
      "abstract_word_count    27678 non-null int64\n",
      "body_word_count        27678 non-null int64\n",
      "body_unique_words      27678 non-null int64\n",
      "num_char               27678 non-null int64\n",
      "dtypes: int64(4), object(7)\n",
      "memory usage: 2.3+ MB\n"
     ]
    }
   ],
   "source": [
    "df_covid.info()"
   ]
  },
  {
   "cell_type": "code",
   "execution_count": 11,
   "metadata": {},
   "outputs": [
    {
     "data": {
      "text/plain": [
       "count     27678\n",
       "unique    20191\n",
       "top            \n",
       "freq       7453\n",
       "Name: abstract, dtype: object"
      ]
     },
     "execution_count": 11,
     "metadata": {},
     "output_type": "execute_result"
    }
   ],
   "source": [
    "df_covid['abstract'].describe(include='all')"
   ]
  },
  {
   "cell_type": "markdown",
   "metadata": {},
   "source": [
    "## Handle Possible Duplicates"
   ]
  },
  {
   "cell_type": "markdown",
   "metadata": {},
   "source": [
    "When we look at the unique values above, we can see that tehre are duplicates. It may have caused because of author submiting the article to multiple journals. Let's remove the duplicats from our dataset:\n",
    "\n",
    "(Thank you Desmond Yeoh for recommending the below approach on Kaggle)"
   ]
  },
  {
   "cell_type": "code",
   "execution_count": 12,
   "metadata": {},
   "outputs": [
    {
     "data": {
      "text/plain": [
       "count     27663\n",
       "unique    20191\n",
       "top            \n",
       "freq       7444\n",
       "Name: abstract, dtype: object"
      ]
     },
     "execution_count": 12,
     "metadata": {},
     "output_type": "execute_result"
    }
   ],
   "source": [
    "df_covid.drop_duplicates(['abstract', 'body_text'], inplace=True)\n",
    "df_covid['abstract'].describe(include='all')"
   ]
  },
  {
   "cell_type": "code",
   "execution_count": 13,
   "metadata": {},
   "outputs": [
    {
     "data": {
      "text/plain": [
       "count                                                 27663\n",
       "unique                                                27662\n",
       "top       In a global world, knowledge of imported infec...\n",
       "freq                                                      2\n",
       "Name: body_text, dtype: object"
      ]
     },
     "execution_count": 13,
     "metadata": {},
     "output_type": "execute_result"
    }
   ],
   "source": [
    "df_covid['body_text'].describe(include='all')"
   ]
  },
  {
   "cell_type": "markdown",
   "metadata": {},
   "source": [
    "It looks like we didn't have duplicates. Instead, it was articles without Abstracts."
   ]
  },
  {
   "cell_type": "markdown",
   "metadata": {},
   "source": [
    "## Take a Look at the Data:"
   ]
  },
  {
   "cell_type": "code",
   "execution_count": 54,
   "metadata": {},
   "outputs": [
    {
     "data": {
      "text/html": [
       "<div>\n",
       "<style scoped>\n",
       "    .dataframe tbody tr th:only-of-type {\n",
       "        vertical-align: middle;\n",
       "    }\n",
       "\n",
       "    .dataframe tbody tr th {\n",
       "        vertical-align: top;\n",
       "    }\n",
       "\n",
       "    .dataframe thead th {\n",
       "        text-align: right;\n",
       "    }\n",
       "</style>\n",
       "<table border=\"1\" class=\"dataframe\">\n",
       "  <thead>\n",
       "    <tr style=\"text-align: right;\">\n",
       "      <th></th>\n",
       "      <th>paper_id</th>\n",
       "      <th>abstract</th>\n",
       "      <th>body_text</th>\n",
       "      <th>authors</th>\n",
       "      <th>title</th>\n",
       "      <th>journal</th>\n",
       "      <th>abstract_summary</th>\n",
       "      <th>abstract_word_count</th>\n",
       "      <th>body_word_count</th>\n",
       "      <th>body_unique_words</th>\n",
       "      <th>num_char</th>\n",
       "      <th>num_of_stopwords</th>\n",
       "    </tr>\n",
       "  </thead>\n",
       "  <tbody>\n",
       "    <tr>\n",
       "      <td>885</td>\n",
       "      <td>00142f93c18b07350be89e96372d240372437ed9</td>\n",
       "      <td>Dendritic cells (DCs) are specialized antigen-...</td>\n",
       "      <td>iNTRODUCTiON Human beings are constantly expos...</td>\n",
       "      <td>Geginat, Jens.  Nizzoli, Giulia...</td>\n",
       "      <td>Immunity to Pathogens Taught by Specialized&lt;b...</td>\n",
       "      <td>Front Immunol</td>\n",
       "      <td>Dendritic cells (DCs) are specialized&lt;br&gt;anti...</td>\n",
       "      <td>309</td>\n",
       "      <td>5305</td>\n",
       "      <td>1522</td>\n",
       "      <td>33353</td>\n",
       "      <td>1746</td>\n",
       "    </tr>\n",
       "    <tr>\n",
       "      <td>886</td>\n",
       "      <td>0022796bb2112abd2e6423ba2d57751db06049fb</td>\n",
       "      <td>Dengue has a negative impact in low-and lower ...</td>\n",
       "      <td>Pathogens and vectors can now be transported r...</td>\n",
       "      <td>Viennet, Elvina.  Ritchie, Scott A....</td>\n",
       "      <td>Public Health Responses to and Challenges for...</td>\n",
       "      <td>PLoS Negl Trop Dis</td>\n",
       "      <td>Dengue has a negative impact in low-and lower...</td>\n",
       "      <td>276</td>\n",
       "      <td>7288</td>\n",
       "      <td>2560</td>\n",
       "      <td>47794</td>\n",
       "      <td>2381</td>\n",
       "    </tr>\n",
       "    <tr>\n",
       "      <td>887</td>\n",
       "      <td>00326efcca0852dc6e39dc6b7786267e1bc4f194</td>\n",
       "      <td>Fifteen years ago, United Nations world leader...</td>\n",
       "      <td>In addition to preventative care and nutrition...</td>\n",
       "      <td>Turner, Erin L..  Nielsen, Katie R....</td>\n",
       "      <td>A Review of Pediatric Critical Care in&lt;br&gt;Res...</td>\n",
       "      <td>Front Pediatr</td>\n",
       "      <td>Fifteen years ago, United Nations world&lt;br&gt;le...</td>\n",
       "      <td>151</td>\n",
       "      <td>7593</td>\n",
       "      <td>2440</td>\n",
       "      <td>51335</td>\n",
       "      <td>2667</td>\n",
       "    </tr>\n",
       "    <tr>\n",
       "      <td>888</td>\n",
       "      <td>00352a58c8766861effed18a4b079d1683fec2ec</td>\n",
       "      <td>Posttranslational modification of proteins by ...</td>\n",
       "      <td>Ubiquitination is a widely used posttranslatio...</td>\n",
       "      <td>Hodul, Molly.  Dahlberg, Caroline L....</td>\n",
       "      <td>Function of the Deubiquitinating Enzyme USP46...</td>\n",
       "      <td>Front Synaptic Neurosci</td>\n",
       "      <td>Posttranslational modification of proteins&lt;br...</td>\n",
       "      <td>148</td>\n",
       "      <td>3156</td>\n",
       "      <td>1068</td>\n",
       "      <td>20441</td>\n",
       "      <td>938</td>\n",
       "    </tr>\n",
       "    <tr>\n",
       "      <td>889</td>\n",
       "      <td>0043d044273b8eb1585d3a66061e9b4e03edc062</td>\n",
       "      <td>Background: Tuberculosis is a devastating dise...</td>\n",
       "      <td>The Ministry of Health of the People's Republi...</td>\n",
       "      <td>Yang, Yu Rong.  McManus, Donald P...</td>\n",
       "      <td>Evaluation of the tuberculosis programme in&lt;b...</td>\n",
       "      <td>BMC Public Health</td>\n",
       "      <td>Background: Tuberculosis is a devastating&lt;br&gt;...</td>\n",
       "      <td>264</td>\n",
       "      <td>3178</td>\n",
       "      <td>1074</td>\n",
       "      <td>19640</td>\n",
       "      <td>1229</td>\n",
       "    </tr>\n",
       "  </tbody>\n",
       "</table>\n",
       "</div>"
      ],
      "text/plain": [
       "                                     paper_id  \\\n",
       "885  00142f93c18b07350be89e96372d240372437ed9   \n",
       "886  0022796bb2112abd2e6423ba2d57751db06049fb   \n",
       "887  00326efcca0852dc6e39dc6b7786267e1bc4f194   \n",
       "888  00352a58c8766861effed18a4b079d1683fec2ec   \n",
       "889  0043d044273b8eb1585d3a66061e9b4e03edc062   \n",
       "\n",
       "                                              abstract  \\\n",
       "885  Dendritic cells (DCs) are specialized antigen-...   \n",
       "886  Dengue has a negative impact in low-and lower ...   \n",
       "887  Fifteen years ago, United Nations world leader...   \n",
       "888  Posttranslational modification of proteins by ...   \n",
       "889  Background: Tuberculosis is a devastating dise...   \n",
       "\n",
       "                                             body_text  \\\n",
       "885  iNTRODUCTiON Human beings are constantly expos...   \n",
       "886  Pathogens and vectors can now be transported r...   \n",
       "887  In addition to preventative care and nutrition...   \n",
       "888  Ubiquitination is a widely used posttranslatio...   \n",
       "889  The Ministry of Health of the People's Republi...   \n",
       "\n",
       "                                     authors  \\\n",
       "885       Geginat, Jens.  Nizzoli, Giulia...   \n",
       "886   Viennet, Elvina.  Ritchie, Scott A....   \n",
       "887   Turner, Erin L..  Nielsen, Katie R....   \n",
       "888  Hodul, Molly.  Dahlberg, Caroline L....   \n",
       "889     Yang, Yu Rong.  McManus, Donald P...   \n",
       "\n",
       "                                                 title  \\\n",
       "885   Immunity to Pathogens Taught by Specialized<b...   \n",
       "886   Public Health Responses to and Challenges for...   \n",
       "887   A Review of Pediatric Critical Care in<br>Res...   \n",
       "888   Function of the Deubiquitinating Enzyme USP46...   \n",
       "889   Evaluation of the tuberculosis programme in<b...   \n",
       "\n",
       "                     journal  \\\n",
       "885            Front Immunol   \n",
       "886       PLoS Negl Trop Dis   \n",
       "887            Front Pediatr   \n",
       "888  Front Synaptic Neurosci   \n",
       "889        BMC Public Health   \n",
       "\n",
       "                                      abstract_summary  abstract_word_count  \\\n",
       "885   Dendritic cells (DCs) are specialized<br>anti...                  309   \n",
       "886   Dengue has a negative impact in low-and lower...                  276   \n",
       "887   Fifteen years ago, United Nations world<br>le...                  151   \n",
       "888   Posttranslational modification of proteins<br...                  148   \n",
       "889   Background: Tuberculosis is a devastating<br>...                  264   \n",
       "\n",
       "     body_word_count  body_unique_words  num_char  num_of_stopwords  \n",
       "885             5305               1522     33353              1746  \n",
       "886             7288               2560     47794              2381  \n",
       "887             7593               2440     51335              2667  \n",
       "888             3156               1068     20441               938  \n",
       "889             3178               1074     19640              1229  "
      ]
     },
     "execution_count": 54,
     "metadata": {},
     "output_type": "execute_result"
    }
   ],
   "source": [
    "df_covid.head()"
   ]
  },
  {
   "cell_type": "code",
   "execution_count": 55,
   "metadata": {},
   "outputs": [
    {
     "data": {
      "text/html": [
       "<div>\n",
       "<style scoped>\n",
       "    .dataframe tbody tr th:only-of-type {\n",
       "        vertical-align: middle;\n",
       "    }\n",
       "\n",
       "    .dataframe tbody tr th {\n",
       "        vertical-align: top;\n",
       "    }\n",
       "\n",
       "    .dataframe thead th {\n",
       "        text-align: right;\n",
       "    }\n",
       "</style>\n",
       "<table border=\"1\" class=\"dataframe\">\n",
       "  <thead>\n",
       "    <tr style=\"text-align: right;\">\n",
       "      <th></th>\n",
       "      <th>abstract_word_count</th>\n",
       "      <th>body_word_count</th>\n",
       "      <th>body_unique_words</th>\n",
       "      <th>num_char</th>\n",
       "      <th>num_of_stopwords</th>\n",
       "    </tr>\n",
       "  </thead>\n",
       "  <tbody>\n",
       "    <tr>\n",
       "      <td>count</td>\n",
       "      <td>26044.000000</td>\n",
       "      <td>26044.000000</td>\n",
       "      <td>26044.000000</td>\n",
       "      <td>2.604400e+04</td>\n",
       "      <td>26044.000000</td>\n",
       "    </tr>\n",
       "    <tr>\n",
       "      <td>mean</td>\n",
       "      <td>163.873061</td>\n",
       "      <td>4727.664952</td>\n",
       "      <td>1445.868300</td>\n",
       "      <td>3.066333e+04</td>\n",
       "      <td>1623.898403</td>\n",
       "    </tr>\n",
       "    <tr>\n",
       "      <td>std</td>\n",
       "      <td>156.632005</td>\n",
       "      <td>5395.844909</td>\n",
       "      <td>967.492081</td>\n",
       "      <td>3.582666e+04</td>\n",
       "      <td>1908.325205</td>\n",
       "    </tr>\n",
       "    <tr>\n",
       "      <td>min</td>\n",
       "      <td>0.000000</td>\n",
       "      <td>13.000000</td>\n",
       "      <td>13.000000</td>\n",
       "      <td>7.000000e+01</td>\n",
       "      <td>0.000000</td>\n",
       "    </tr>\n",
       "    <tr>\n",
       "      <td>25%</td>\n",
       "      <td>0.000000</td>\n",
       "      <td>2596.000000</td>\n",
       "      <td>965.000000</td>\n",
       "      <td>1.673300e+04</td>\n",
       "      <td>875.000000</td>\n",
       "    </tr>\n",
       "    <tr>\n",
       "      <td>50%</td>\n",
       "      <td>164.000000</td>\n",
       "      <td>3817.000000</td>\n",
       "      <td>1282.000000</td>\n",
       "      <td>2.460200e+04</td>\n",
       "      <td>1308.000000</td>\n",
       "    </tr>\n",
       "    <tr>\n",
       "      <td>75%</td>\n",
       "      <td>240.000000</td>\n",
       "      <td>5550.000000</td>\n",
       "      <td>1698.250000</td>\n",
       "      <td>3.582550e+04</td>\n",
       "      <td>1906.000000</td>\n",
       "    </tr>\n",
       "    <tr>\n",
       "      <td>max</td>\n",
       "      <td>3694.000000</td>\n",
       "      <td>232431.000000</td>\n",
       "      <td>30523.000000</td>\n",
       "      <td>1.549213e+06</td>\n",
       "      <td>79208.000000</td>\n",
       "    </tr>\n",
       "  </tbody>\n",
       "</table>\n",
       "</div>"
      ],
      "text/plain": [
       "       abstract_word_count  body_word_count  body_unique_words      num_char  \\\n",
       "count         26044.000000     26044.000000       26044.000000  2.604400e+04   \n",
       "mean            163.873061      4727.664952        1445.868300  3.066333e+04   \n",
       "std             156.632005      5395.844909         967.492081  3.582666e+04   \n",
       "min               0.000000        13.000000          13.000000  7.000000e+01   \n",
       "25%               0.000000      2596.000000         965.000000  1.673300e+04   \n",
       "50%             164.000000      3817.000000        1282.000000  2.460200e+04   \n",
       "75%             240.000000      5550.000000        1698.250000  3.582550e+04   \n",
       "max            3694.000000    232431.000000       30523.000000  1.549213e+06   \n",
       "\n",
       "       num_of_stopwords  \n",
       "count      26044.000000  \n",
       "mean        1623.898403  \n",
       "std         1908.325205  \n",
       "min            0.000000  \n",
       "25%          875.000000  \n",
       "50%         1308.000000  \n",
       "75%         1906.000000  \n",
       "max        79208.000000  "
      ]
     },
     "execution_count": 55,
     "metadata": {},
     "output_type": "execute_result"
    }
   ],
   "source": [
    "df_covid.describe()"
   ]
  },
  {
   "cell_type": "markdown",
   "metadata": {},
   "source": [
    "# Data Pre-processing"
   ]
  },
  {
   "cell_type": "markdown",
   "metadata": {},
   "source": [
    "Now that we have our dataset loaded, we need to clean-up the text to improve any clustering or classification efforts. First, let's drop Null vales:"
   ]
  },
  {
   "cell_type": "code",
   "execution_count": 56,
   "metadata": {},
   "outputs": [
    {
     "name": "stdout",
     "output_type": "stream",
     "text": [
      "<class 'pandas.core.frame.DataFrame'>\n",
      "Int64Index: 26044 entries, 885 to 27677\n",
      "Data columns (total 12 columns):\n",
      "paper_id               26044 non-null object\n",
      "abstract               26044 non-null object\n",
      "body_text              26044 non-null object\n",
      "authors                26044 non-null object\n",
      "title                  26044 non-null object\n",
      "journal                26044 non-null object\n",
      "abstract_summary       26044 non-null object\n",
      "abstract_word_count    26044 non-null int64\n",
      "body_word_count        26044 non-null int64\n",
      "body_unique_words      26044 non-null int64\n",
      "num_char               26044 non-null int64\n",
      "num_of_stopwords       26044 non-null int64\n",
      "dtypes: int64(5), object(7)\n",
      "memory usage: 2.6+ MB\n"
     ]
    }
   ],
   "source": [
    "df_covid.dropna(inplace=True)\n",
    "df_covid.info()"
   ]
  },
  {
   "cell_type": "markdown",
   "metadata": {},
   "source": [
    "### Handling multiple languages\n",
    "Next we are going to determine the language of each paper in the dataframe. Not all of the sources are English and the language needs to be identified so that we know how handle these instances"
   ]
  },
  {
   "cell_type": "code",
   "execution_count": 57,
   "metadata": {},
   "outputs": [
    {
     "name": "stderr",
     "output_type": "stream",
     "text": [
      "100%|███████████████████████████████████████████████████████████████████████████| 26044/26044 [01:48<00:00, 240.68it/s]\n"
     ]
    }
   ],
   "source": [
    "## Filter by language\n",
    "from sklearn.feature_extraction.text import CountVectorizer\n",
    "from tqdm import tqdm\n",
    "\n",
    "from langdetect import detect\n",
    "from langdetect import DetectorFactory\n",
    "\n",
    "# set seed\n",
    "DetectorFactory.seed = 0\n",
    "\n",
    "# hold label - language\n",
    "languages = []\n",
    "\n",
    "# go through each text\n",
    "for ii in tqdm(range(0,len(df_covid))):\n",
    "    # split by space into list, take the first x intex, join with space\n",
    "    text = df_covid.iloc[ii]['body_text'].split(\" \")\n",
    "    \n",
    "    lang = \"en\"\n",
    "    try:\n",
    "        if len(text) > 50:\n",
    "            lang = detect(\" \".join(text[:50]))\n",
    "        elif len(text) > 0:\n",
    "            lang = detect(\" \".join(text[:len(text)]))\n",
    "    # ught... beginning of the document was not in a good format\n",
    "    except Exception as e:\n",
    "        all_words = set(text)\n",
    "        try:\n",
    "            lang = detect(\" \".join(all_words))\n",
    "        # what!! :( let's see if we can find any text in abstract...\n",
    "        except Exception as e:\n",
    "            \n",
    "            try:\n",
    "                # let's try to label it through the abstract then\n",
    "                lang = detect(df_covid.iloc[ii]['abstract_summary'])\n",
    "            except Exception as e:\n",
    "                lang = \"unknown\"\n",
    "                pass\n",
    "    \n",
    "    # get the language    \n",
    "    languages.append(lang)"
   ]
  },
  {
   "cell_type": "markdown",
   "metadata": {},
   "source": [
    "Lets take a look at the language distribution in the dataset"
   ]
  },
  {
   "cell_type": "code",
   "execution_count": 62,
   "metadata": {},
   "outputs": [
    {
     "name": "stdout",
     "output_type": "stream",
     "text": [
      "it : 13\n",
      "en : 25424\n",
      "es : 259\n",
      "pt : 12\n",
      "af : 1\n",
      "ca : 1\n",
      "cy : 1\n",
      "de : 34\n",
      "zh-cn : 1\n",
      "fr : 296\n",
      "pl : 2\n",
      "\n",
      "Total: 26044\n"
     ]
    }
   ],
   "source": [
    "unique_languages = 0\n",
    "for lang in set(languages):\n",
    "    print(lang, \":\" ,languages.count(lang))\n",
    "    unique_languages += 1\n",
    "\n",
    "print(\"\\nTotal:\", len(languages))\n"
   ]
  },
  {
   "cell_type": "code",
   "execution_count": 66,
   "metadata": {},
   "outputs": [
    {
     "data": {
      "text/plain": [
       "<matplotlib.axes._subplots.AxesSubplot at 0x1ba9d1b9048>"
      ]
     },
     "execution_count": 66,
     "metadata": {},
     "output_type": "execute_result"
    },
    {
     "data": {
      "image/png": "[encoded data removed]",
      "text/plain": [
       "<Figure size 432x288 with 1 Axes>"
      ]
     },
     "metadata": {
      "needs_background": "light"
     },
     "output_type": "display_data"
    }
   ],
   "source": [
    "df_covid['language'] = languages\n",
    "df_covid['language'].hist(bins=unique_languages)"
   ]
  },
  {
   "cell_type": "markdown",
   "metadata": {},
   "source": [
    "For now we will drop any language that is not English. It may be worthwhile to translate these texts in the future"
   ]
  },
  {
   "cell_type": "code",
   "execution_count": null,
   "metadata": {},
   "outputs": [],
   "source": [
    "df_covid = df_covid[df_covid['language'] == 'en'] \n",
    "df_covid.info()"
   ]
  },
  {
   "cell_type": "markdown",
   "metadata": {},
   "source": [
    "### Next lets create a function that will process the text data for us. \n",
    "For this purpose we will be using the nltk library. This function will convert text to lower case, remove punctuation, and find and remove stopwords (common words that will act as noise in the clustering step). The function can also try to determine the rootword of each token. This behavior is controlled by the stem boolean."
   ]
  },
  {
   "cell_type": "code",
   "execution_count": null,
   "metadata": {},
   "outputs": [],
   "source": [
    "df_covid.head()import nltk\n",
    "nltk.download('stopwords')\n",
    "from nltk.corpus import stopwords\n",
    "from nltk import word_tokenize\n",
    "import string\n",
    "\n",
    "def process_text(text, stem=True, delimiter=' '):\n",
    "    \n",
    "    tokens = word_tokenize(text)\n",
    "    tokens = [w.lower() for w in tokens]\n",
    "    table = str.maketrans('', '', string.punctuation)\n",
    "    stripped = [w.translate(table) for w in tokens]\n",
    "    words = [word for word in stripped if word.isalpha()] \n",
    "    stop_words = set(stopwords.words('english'))\n",
    "    words = [w for w in words if not w in stop_words]\n",
    "\n",
    "    if stem:\n",
    "        stemmer = nltk.stem.PorterStemmer()\n",
    "        words = [stemmer.stem(w) for w in words]\n",
    " \n",
    "    processed = \"\".join([delimiter + i for i in words]).strip()\n",
    "    return processed"
   ]
  },
  {
   "cell_type": "code",
   "execution_count": 51,
   "metadata": {},
   "outputs": [],
   "source": [
    "df_covid['processed_body'] = df_sample.apply(lambda x: process_text(x['body_text'], stem=False), axis=1)\n",
    "df_covid['processed_abstract'] = df_sample.apply(lambda x: process_text(x['abstract_text'], stem=False), axis=1)"
   ]
  },
  {
   "cell_type": "markdown",
   "metadata": {},
   "source": [
    "### Let's add another feature that counts stopwords in the body"
   ]
  },
  {
   "cell_type": "code",
   "execution_count": 17,
   "metadata": {},
   "outputs": [
    {
     "name": "stderr",
     "output_type": "stream",
     "text": [
      "[nltk_data] Downloading package stopwords to C:\\Users\\Nick\n",
      "[nltk_data]     PC\\AppData\\Roaming\\nltk_data...\n",
      "[nltk_data]   Package stopwords is already up-to-date!\n"
     ]
    }
   ],
   "source": [
    "STOP_WORDS = set(stopwords.words('english'))\n",
    "df_covid['num_of_stopwords']=df_covid['body_text'].apply(lambda x:len([ w for w in str(x).lower().split() if w in STOP_WORDS]))"
   ]
  },
  {
   "cell_type": "code",
   "execution_count": 64,
   "metadata": {},
   "outputs": [],
   "source": [
    "import seaborn as sns"
   ]
  },
  {
   "cell_type": "code",
   "execution_count": 67,
   "metadata": {},
   "outputs": [
    {
     "data": {
      "text/plain": [
       "<matplotlib.axes._subplots.AxesSubplot at 0x1baa6c09148>"
      ]
     },
     "execution_count": 67,
     "metadata": {},
     "output_type": "execute_result"
    },
    {
     "data": {
      "image/png": "[encoded data removed]",
      "text/plain": [
       "<Figure size 432x288 with 1 Axes>"
      ]
     },
     "metadata": {
      "needs_background": "light"
     },
     "output_type": "display_data"
    }
   ],
   "source": [
    "sns.distplot(df_covid['body_word_count'])"
   ]
  },
  {
   "cell_type": "code",
   "execution_count": 69,
   "metadata": {},
   "outputs": [
    {
     "data": {
      "text/plain": [
       "<matplotlib.axes._subplots.AxesSubplot at 0x1baa6e7f548>"
      ]
     },
     "execution_count": 69,
     "metadata": {},
     "output_type": "execute_result"
    },
    {
     "data": {
      "image/png": "[encoded data removed]",
      "text/plain": [
       "<Figure size 432x288 with 1 Axes>"
      ]
     },
     "metadata": {
      "needs_background": "light"
     },
     "output_type": "display_data"
    }
   ],
   "source": [
    "sns.distplot(df_covid['body_unique_words'])"
   ]
  },
  {
   "cell_type": "code",
   "execution_count": null,
   "metadata": {},
   "outputs": [],
   "source": []
  }
 ],
 "metadata": {
  "kernelspec": {
   "display_name": "Python 3",
   "language": "python",
   "name": "python3"
  },
  "language_info": {
   "codemirror_mode": {
    "name": "ipython",
    "version": 3
   },
   "file_extension": ".py",
   "mimetype": "text/x-python",
   "name": "python",
   "nbconvert_exporter": "python",
   "pygments_lexer": "ipython3",
   "version": "3.7.4"
  }
 },
 "nbformat": 4,
 "nbformat_minor": 2
}
